{
 "cells": [
  {
   "cell_type": "code",
   "execution_count": 7,
   "metadata": {},
   "outputs": [],
   "source": [
    "import matplotlib.pyplot as plt\n",
    "def plot_behaviers(file_name):\n",
    "    # plot actions\n",
    "    file=open(file_name,\"r\")\n",
    "    actions=[]\n",
    "    for line in file.readlines():\n",
    "        action=line.split(\",\")\n",
    "        for a in action:\n",
    "            actions.append(a)\n",
    "    lst=[]\n",
    "    for a in actions:\n",
    "        b=a.strip('[').strip(']').split(\" \")\n",
    "        lst.append(b)\n",
    "    action_values=[]\n",
    "    for l in lst:\n",
    "        for s in l:\n",
    "            if (s!='0.' and s!=\"\"):\n",
    "                    if s!=']':\n",
    "                        s=s.rstrip(\"]\")\n",
    "                        action_values.append(float(s))                     \n",
    "    plt.figure()\n",
    "    #plit.subplot(1,2,1)\n",
    "    plt.plot(action_values)"
   ]
  },
  {
   "cell_type": "code",
   "execution_count": 8,
   "metadata": {},
   "outputs": [],
   "source": [
    "def plot_rewards(file_name):\n",
    "    f=open(file_name,\"r\")\n",
    "    R=[]\n",
    "    for l in f:\n",
    "        for r in l.split(','):\n",
    "            R.append(r)\n",
    "    Rewards=[]\n",
    "    for r in R:\n",
    "        if r!='':\n",
    "            Rewards.append(float(r))\n",
    "    plt.plot(Rewards)"
   ]
  },
  {
   "cell_type": "code",
   "execution_count": 40,
   "metadata": {},
   "outputs": [
    {
     "data": {
      "text/plain": [
       "'9.99609184e+00 -1.42108513e-14  1.77635642e-15 -3.38813098e-21'"
      ]
     },
     "execution_count": 40,
     "metadata": {},
     "output_type": "execute_result"
    }
   ],
   "source": [
    "f=open(\"states_01.txt\",\"r\")\n",
    "states=[]\n",
    "for line in f.readlines():\n",
    "    s=line.split(\",\")\n",
    "    for state in s:\n",
    "        states.append(state.strip('[ ').rstrip('] '))\n",
    "states[0]"
   ]
  },
  {
   "cell_type": "code",
   "execution_count": 19,
   "metadata": {},
   "outputs": [
    {
     "data": {
      "image/png": "[encoded data removed]",
      "text/plain": [
       "<Figure size 432x288 with 1 Axes>"
      ]
     },
     "metadata": {
      "needs_background": "light"
     },
     "output_type": "display_data"
    }
   ],
   "source": [
    "plot_behaviers(\"actions_01.txt\")"
   ]
  },
  {
   "cell_type": "code",
   "execution_count": 20,
   "metadata": {},
   "outputs": [
    {
     "data": {
      "image/png": "[encoded data removed]",
      "text/plain": [
       "<Figure size 432x288 with 1 Axes>"
      ]
     },
     "metadata": {
      "needs_background": "light"
     },
     "output_type": "display_data"
    }
   ],
   "source": [
    "plot_rewards(\"rewards_01.txt\")"
   ]
  },
  {
   "cell_type": "code",
   "execution_count": null,
   "metadata": {},
   "outputs": [],
   "source": [
    "s=[1,2,3,4]"
   ]
  },
  {
   "cell_type": "code",
   "execution_count": null,
   "metadata": {},
   "outputs": [],
   "source": []
  }
 ],
 "metadata": {
  "kernelspec": {
   "display_name": "Python 3",
   "language": "python",
   "name": "python3"
  },
  "language_info": {
   "codemirror_mode": {
    "name": "ipython",
    "version": 3
   },
   "file_extension": ".py",
   "mimetype": "text/x-python",
   "name": "python",
   "nbconvert_exporter": "python",
   "pygments_lexer": "ipython3",
   "version": "3.6.7"
  }
 },
 "nbformat": 4,
 "nbformat_minor": 2
}
