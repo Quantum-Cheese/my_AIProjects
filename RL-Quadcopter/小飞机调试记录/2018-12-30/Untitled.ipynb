{
 "cells": [
  {
   "cell_type": "code",
   "execution_count": null,
   "metadata": {},
   "outputs": [],
   "source": []
  },
  {
   "cell_type": "code",
   "execution_count": null,
   "metadata": {},
   "outputs": [],
   "source": []
  },
  {
   "cell_type": "markdown",
   "metadata": {},
   "source": [
    "#### DDPG模型  \n",
    "* <div style=\"color:red\"> states取4维  [z,ox,oy,oz]</div>\n",
    "* soft update 参数 0.001\n",
    "* gamma 0.99\n",
    "* Memory   按优先级存储/取样\n",
    "   * 容量 1000\n",
    "   * 一次取样量 100\n",
    "   \n",
    "* Actor  \n",
    "2 hidden layers MLP\n",
    "   * 优化器 Adam: lr=0.0001  \n",
    "   * 网络结构 2 hidden-layers(400-300)\n",
    "   * 激活函数 relu+ tanh\n",
    "   * 批归一化\n",
    "   * 第二层加正则化（l2:$10^{-6}$）\n",
    "* Critic\n",
    "   * 优化器 Adadelta(默认)\n",
    "   * l2正则化($10^{-5}$)\n",
    "   * 网络结构 state:（400-300）+ actions:300"
   ]
  },
  {
   "cell_type": "code",
   "execution_count": null,
   "metadata": {},
   "outputs": [],
   "source": []
  }
 ],
 "metadata": {
  "kernelspec": {
   "display_name": "Python 3",
   "language": "python",
   "name": "python3"
  },
  "language_info": {
   "codemirror_mode": {
    "name": "ipython",
    "version": 3
   },
   "file_extension": ".py",
   "mimetype": "text/x-python",
   "name": "python",
   "nbconvert_exporter": "python",
   "pygments_lexer": "ipython3",
   "version": "3.6.7"
  }
 },
 "nbformat": 4,
 "nbformat_minor": 2
}
